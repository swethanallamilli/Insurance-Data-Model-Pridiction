{
 "cells": [
  {
   "cell_type": "markdown",
   "metadata": {},
   "source": [
    "# Insurance Data - Decision Tree & Random Forest"
   ]
  },
  {
   "cell_type": "markdown",
   "metadata": {},
   "source": [
    "### Table of Contents\n",
    "\n",
    "1. [Data Loading and Understanding](#section1)</br>\n",
    "2. [Data Preprocessing](#section2)</br>\n",
    "    - 2.1 [Removing the columns with more than 50% missing values](#section201)</br>\n",
    "    - 2.2 [Replacing the missing values with mean since all are numerical and standardized variables](#section202)</br>\n",
    "    - 2.3 [Removing irrelevant columns & Preparing data](#section203)</br>\n",
    "    - 2.4 [Preparing X & y](#section204)</br>\n",
    "    - 2.5 [Splitting X & y into train and test](#section205)</br>\n",
    "3. [Decision Tree Model](#section3)</br>\n",
    "    - 3.1 [Using the model for Prediction](#section301)</br>\n",
    "    - 3.2 [Model Evaluation using Confusion Matrix](#section302)</br>   \n",
    "    - 3.2 [Calculating Precision, Recall, and F1 Score](#section303)</br>\n",
    "4. [Random Forest Model](#section4)</br>\n",
    "    - 4.1 [Using the model for Prediction](#section401)</br>\n",
    "    - 4.2 [Calculating Precision, Recall, and F1 Score](#section402)</br>\n",
    "    - 4.3 [Random Forest Model with RandomizedSearchCV](#section403)</br>\n",
    "5. [ROC_Curve](#section5)"
   ]
  },
  {
   "cell_type": "markdown",
   "metadata": {},
   "source": [
    "<a id=section1></a>\n",
    "### 1. Data Loading and Understanding"
   ]
  },
  {
   "cell_type": "code",
   "execution_count": 1,
   "metadata": {},
   "outputs": [],
   "source": [
    "import pandas as pd\n",
    "import numpy as np\n",
    "import seaborn as sns\n",
    "import matplotlib.pyplot as plt\n",
    "\n",
    "insurance_data = 'https://raw.githubusercontent.com/insaid2018/Term-2/master/Projects/insurance_data.csv'\n",
    "insurance = pd.read_csv(insurance_data)"
   ]
  },
  {
   "cell_type": "code",
   "execution_count": 2,
   "metadata": {},
   "outputs": [
    {
     "data": {
      "text/html": [
       "<div>\n",
       "<style scoped>\n",
       "    .dataframe tbody tr th:only-of-type {\n",
       "        vertical-align: middle;\n",
       "    }\n",
       "\n",
       "    .dataframe tbody tr th {\n",
       "        vertical-align: top;\n",
       "    }\n",
       "\n",
       "    .dataframe thead th {\n",
       "        text-align: right;\n",
       "    }\n",
       "</style>\n",
       "<table border=\"1\" class=\"dataframe\">\n",
       "  <thead>\n",
       "    <tr style=\"text-align: right;\">\n",
       "      <th></th>\n",
       "      <th>Id</th>\n",
       "      <th>Product_Info_1</th>\n",
       "      <th>Product_Info_2</th>\n",
       "      <th>Product_Info_3</th>\n",
       "      <th>Product_Info_4</th>\n",
       "      <th>Product_Info_5</th>\n",
       "      <th>Product_Info_6</th>\n",
       "      <th>Product_Info_7</th>\n",
       "      <th>Ins_Age</th>\n",
       "      <th>Ht</th>\n",
       "      <th>...</th>\n",
       "      <th>Medical_Keyword_40</th>\n",
       "      <th>Medical_Keyword_41</th>\n",
       "      <th>Medical_Keyword_42</th>\n",
       "      <th>Medical_Keyword_43</th>\n",
       "      <th>Medical_Keyword_44</th>\n",
       "      <th>Medical_Keyword_45</th>\n",
       "      <th>Medical_Keyword_46</th>\n",
       "      <th>Medical_Keyword_47</th>\n",
       "      <th>Medical_Keyword_48</th>\n",
       "      <th>Response</th>\n",
       "    </tr>\n",
       "  </thead>\n",
       "  <tbody>\n",
       "    <tr>\n",
       "      <th>0</th>\n",
       "      <td>2</td>\n",
       "      <td>1</td>\n",
       "      <td>D3</td>\n",
       "      <td>10</td>\n",
       "      <td>0.076923</td>\n",
       "      <td>2</td>\n",
       "      <td>1</td>\n",
       "      <td>1</td>\n",
       "      <td>0.641791</td>\n",
       "      <td>0.581818</td>\n",
       "      <td>...</td>\n",
       "      <td>0</td>\n",
       "      <td>0</td>\n",
       "      <td>0</td>\n",
       "      <td>0</td>\n",
       "      <td>0</td>\n",
       "      <td>0</td>\n",
       "      <td>0</td>\n",
       "      <td>0</td>\n",
       "      <td>0</td>\n",
       "      <td>8</td>\n",
       "    </tr>\n",
       "    <tr>\n",
       "      <th>1</th>\n",
       "      <td>5</td>\n",
       "      <td>1</td>\n",
       "      <td>A1</td>\n",
       "      <td>26</td>\n",
       "      <td>0.076923</td>\n",
       "      <td>2</td>\n",
       "      <td>3</td>\n",
       "      <td>1</td>\n",
       "      <td>0.059701</td>\n",
       "      <td>0.600000</td>\n",
       "      <td>...</td>\n",
       "      <td>0</td>\n",
       "      <td>0</td>\n",
       "      <td>0</td>\n",
       "      <td>0</td>\n",
       "      <td>0</td>\n",
       "      <td>0</td>\n",
       "      <td>0</td>\n",
       "      <td>0</td>\n",
       "      <td>0</td>\n",
       "      <td>4</td>\n",
       "    </tr>\n",
       "    <tr>\n",
       "      <th>2</th>\n",
       "      <td>6</td>\n",
       "      <td>1</td>\n",
       "      <td>E1</td>\n",
       "      <td>26</td>\n",
       "      <td>0.076923</td>\n",
       "      <td>2</td>\n",
       "      <td>3</td>\n",
       "      <td>1</td>\n",
       "      <td>0.029851</td>\n",
       "      <td>0.745455</td>\n",
       "      <td>...</td>\n",
       "      <td>0</td>\n",
       "      <td>0</td>\n",
       "      <td>0</td>\n",
       "      <td>0</td>\n",
       "      <td>0</td>\n",
       "      <td>0</td>\n",
       "      <td>0</td>\n",
       "      <td>0</td>\n",
       "      <td>0</td>\n",
       "      <td>8</td>\n",
       "    </tr>\n",
       "    <tr>\n",
       "      <th>3</th>\n",
       "      <td>7</td>\n",
       "      <td>1</td>\n",
       "      <td>D4</td>\n",
       "      <td>10</td>\n",
       "      <td>0.487179</td>\n",
       "      <td>2</td>\n",
       "      <td>3</td>\n",
       "      <td>1</td>\n",
       "      <td>0.164179</td>\n",
       "      <td>0.672727</td>\n",
       "      <td>...</td>\n",
       "      <td>0</td>\n",
       "      <td>0</td>\n",
       "      <td>0</td>\n",
       "      <td>0</td>\n",
       "      <td>0</td>\n",
       "      <td>0</td>\n",
       "      <td>0</td>\n",
       "      <td>0</td>\n",
       "      <td>0</td>\n",
       "      <td>8</td>\n",
       "    </tr>\n",
       "    <tr>\n",
       "      <th>4</th>\n",
       "      <td>8</td>\n",
       "      <td>1</td>\n",
       "      <td>D2</td>\n",
       "      <td>26</td>\n",
       "      <td>0.230769</td>\n",
       "      <td>2</td>\n",
       "      <td>3</td>\n",
       "      <td>1</td>\n",
       "      <td>0.417910</td>\n",
       "      <td>0.654545</td>\n",
       "      <td>...</td>\n",
       "      <td>0</td>\n",
       "      <td>0</td>\n",
       "      <td>0</td>\n",
       "      <td>0</td>\n",
       "      <td>0</td>\n",
       "      <td>0</td>\n",
       "      <td>0</td>\n",
       "      <td>0</td>\n",
       "      <td>0</td>\n",
       "      <td>8</td>\n",
       "    </tr>\n",
       "  </tbody>\n",
       "</table>\n",
       "<p>5 rows × 128 columns</p>\n",
       "</div>"
      ],
      "text/plain": [
       "   Id  Product_Info_1 Product_Info_2  Product_Info_3  Product_Info_4  \\\n",
       "0   2               1             D3              10        0.076923   \n",
       "1   5               1             A1              26        0.076923   \n",
       "2   6               1             E1              26        0.076923   \n",
       "3   7               1             D4              10        0.487179   \n",
       "4   8               1             D2              26        0.230769   \n",
       "\n",
       "   Product_Info_5  Product_Info_6  Product_Info_7   Ins_Age        Ht  \\\n",
       "0               2               1               1  0.641791  0.581818   \n",
       "1               2               3               1  0.059701  0.600000   \n",
       "2               2               3               1  0.029851  0.745455   \n",
       "3               2               3               1  0.164179  0.672727   \n",
       "4               2               3               1  0.417910  0.654545   \n",
       "\n",
       "     ...     Medical_Keyword_40  Medical_Keyword_41  Medical_Keyword_42  \\\n",
       "0    ...                      0                   0                   0   \n",
       "1    ...                      0                   0                   0   \n",
       "2    ...                      0                   0                   0   \n",
       "3    ...                      0                   0                   0   \n",
       "4    ...                      0                   0                   0   \n",
       "\n",
       "   Medical_Keyword_43  Medical_Keyword_44  Medical_Keyword_45  \\\n",
       "0                   0                   0                   0   \n",
       "1                   0                   0                   0   \n",
       "2                   0                   0                   0   \n",
       "3                   0                   0                   0   \n",
       "4                   0                   0                   0   \n",
       "\n",
       "   Medical_Keyword_46  Medical_Keyword_47  Medical_Keyword_48  Response  \n",
       "0                   0                   0                   0         8  \n",
       "1                   0                   0                   0         4  \n",
       "2                   0                   0                   0         8  \n",
       "3                   0                   0                   0         8  \n",
       "4                   0                   0                   0         8  \n",
       "\n",
       "[5 rows x 128 columns]"
      ]
     },
     "execution_count": 2,
     "metadata": {},
     "output_type": "execute_result"
    }
   ],
   "source": [
    "insurance.head()"
   ]
  },
  {
   "cell_type": "markdown",
   "metadata": {},
   "source": [
    "<a id=section2></a>\n",
    "### 2. Data Preprocessing"
   ]
  },
  {
   "cell_type": "markdown",
   "metadata": {},
   "source": [
    "<a id=section201></a>\n",
    "#### 2.1 Removing the columns with more than 50% missing values"
   ]
  },
  {
   "cell_type": "code",
   "execution_count": 3,
   "metadata": {},
   "outputs": [
    {
     "name": "stdout",
     "output_type": "stream",
     "text": [
      "The threshold for missing values is: 29690.5\n"
     ]
    },
    {
     "data": {
      "text/plain": [
       "(59381, 122)"
      ]
     },
     "execution_count": 3,
     "metadata": {},
     "output_type": "execute_result"
    }
   ],
   "source": [
    "half_count = len(insurance)/2\n",
    "print('The threshold for missing values is:', half_count)\n",
    "insurance = insurance.dropna(thresh=half_count, axis=1)\n",
    "insurance.shape"
   ]
  },
  {
   "cell_type": "markdown",
   "metadata": {},
   "source": [
    "<a id=section202></a>\n",
    "#### 2.2 Replacing the missing values with mean since all are numerical and standardized variables"
   ]
  },
  {
   "cell_type": "code",
   "execution_count": 4,
   "metadata": {},
   "outputs": [
    {
     "name": "stdout",
     "output_type": "stream",
     "text": [
      "['Employment_Info_1', 'Employment_Info_4', 'Employment_Info_6', 'Insurance_History_5', 'Family_Hist_2', 'Family_Hist_4', 'Medical_History_1']\n"
     ]
    },
    {
     "data": {
      "text/plain": [
       "Id                     0\n",
       "Product_Info_1         0\n",
       "Product_Info_2         0\n",
       "Product_Info_3         0\n",
       "Product_Info_4         0\n",
       "Product_Info_5         0\n",
       "Product_Info_6         0\n",
       "Product_Info_7         0\n",
       "Ins_Age                0\n",
       "Ht                     0\n",
       "Wt                     0\n",
       "BMI                    0\n",
       "Employment_Info_1      0\n",
       "Employment_Info_2      0\n",
       "Employment_Info_3      0\n",
       "Employment_Info_4      0\n",
       "Employment_Info_5      0\n",
       "Employment_Info_6      0\n",
       "InsuredInfo_1          0\n",
       "InsuredInfo_2          0\n",
       "InsuredInfo_3          0\n",
       "InsuredInfo_4          0\n",
       "InsuredInfo_5          0\n",
       "InsuredInfo_6          0\n",
       "InsuredInfo_7          0\n",
       "Insurance_History_1    0\n",
       "Insurance_History_2    0\n",
       "Insurance_History_3    0\n",
       "Insurance_History_4    0\n",
       "Insurance_History_5    0\n",
       "                      ..\n",
       "Medical_Keyword_20     0\n",
       "Medical_Keyword_21     0\n",
       "Medical_Keyword_22     0\n",
       "Medical_Keyword_23     0\n",
       "Medical_Keyword_24     0\n",
       "Medical_Keyword_25     0\n",
       "Medical_Keyword_26     0\n",
       "Medical_Keyword_27     0\n",
       "Medical_Keyword_28     0\n",
       "Medical_Keyword_29     0\n",
       "Medical_Keyword_30     0\n",
       "Medical_Keyword_31     0\n",
       "Medical_Keyword_32     0\n",
       "Medical_Keyword_33     0\n",
       "Medical_Keyword_34     0\n",
       "Medical_Keyword_35     0\n",
       "Medical_Keyword_36     0\n",
       "Medical_Keyword_37     0\n",
       "Medical_Keyword_38     0\n",
       "Medical_Keyword_39     0\n",
       "Medical_Keyword_40     0\n",
       "Medical_Keyword_41     0\n",
       "Medical_Keyword_42     0\n",
       "Medical_Keyword_43     0\n",
       "Medical_Keyword_44     0\n",
       "Medical_Keyword_45     0\n",
       "Medical_Keyword_46     0\n",
       "Medical_Keyword_47     0\n",
       "Medical_Keyword_48     0\n",
       "Response               0\n",
       "Length: 122, dtype: int64"
      ]
     },
     "execution_count": 4,
     "metadata": {},
     "output_type": "execute_result"
    }
   ],
   "source": [
    "#Collecting the columns with missing values in a list\n",
    "col_missing_data = insurance.columns[insurance.isnull().any()].tolist()\n",
    "print(col_missing_data)\n",
    "\n",
    "#Replacing the missing values with respective mean as all are standardized values\n",
    "for col in col_missing_data:\n",
    "    insurance[col] = insurance[col].fillna(insurance[col].mean())\n",
    "\n",
    "#Checking for any null values \n",
    "insurance.isnull().sum()"
   ]
  },
  {
   "cell_type": "markdown",
   "metadata": {},
   "source": [
    "<a id=section203></a>\n",
    "#### 2.3 Removing irrelevant columns & Preparing data"
   ]
  },
  {
   "cell_type": "code",
   "execution_count": 5,
   "metadata": {},
   "outputs": [
    {
     "name": "stdout",
     "output_type": "stream",
     "text": [
      "(59381, 122)\n",
      "Categorical features: Index(['Product_Info_2'], dtype='object')\n",
      "Unique categorical values of Product_Info_2: ['D3' 'A1' 'E1' 'D4' 'D2' 'A8' 'A2' 'D1' 'A7' 'A6' 'A3' 'A5' 'C4' 'C1'\n",
      " 'B2' 'C3' 'C2' 'A4' 'B1']\n"
     ]
    }
   ],
   "source": [
    "#Remoing id column for no much decision should be made based on id\n",
    "#insurance = insurance.drop('Id', axis=1)\n",
    "print(insurance.shape)\n",
    "\n",
    "#Cehcking for categorical columns\n",
    "print('Categorical features:',insurance.columns[insurance.dtypes == object])\n",
    "print('Unique categorical values of Product_Info_2:', insurance.Product_Info_2.unique())"
   ]
  },
  {
   "cell_type": "markdown",
   "metadata": {},
   "source": [
    "#### Creating Dummy variables"
   ]
  },
  {
   "cell_type": "code",
   "execution_count": 6,
   "metadata": {},
   "outputs": [
    {
     "name": "stdout",
     "output_type": "stream",
     "text": [
      "(59381, 139)\n"
     ]
    }
   ],
   "source": [
    "dummy_data = pd.get_dummies(insurance, columns=['Product_Info_2'], drop_first=True)\n",
    "print(dummy_data.shape)\n",
    "final_data = dummy_data.copy()"
   ]
  },
  {
   "cell_type": "markdown",
   "metadata": {},
   "source": [
    "<a id=section204></a>\n",
    "#### 2.4 Preparing X & y"
   ]
  },
  {
   "cell_type": "code",
   "execution_count": 7,
   "metadata": {},
   "outputs": [
    {
     "name": "stdout",
     "output_type": "stream",
     "text": [
      "(59381, 138)\n",
      "(59381,)\n"
     ]
    }
   ],
   "source": [
    "X = final_data.loc[:, final_data.columns != 'Response']\n",
    "y = final_data.Response\n",
    "print(X.shape)\n",
    "print(y.shape)"
   ]
  },
  {
   "cell_type": "markdown",
   "metadata": {},
   "source": [
    "<a id=section205></a>\n",
    "#### 2.5 Splitting X & y into train and test"
   ]
  },
  {
   "cell_type": "code",
   "execution_count": 8,
   "metadata": {},
   "outputs": [
    {
     "name": "stdout",
     "output_type": "stream",
     "text": [
      "(41566, 138)\n",
      "(41566,)\n"
     ]
    }
   ],
   "source": [
    "from sklearn.model_selection import train_test_split\n",
    "X_train, X_test, y_train, y_test = train_test_split(X, y, test_size=0.30, random_state=1)\n",
    "\n",
    "print(X_train.shape)\n",
    "print(y_train.shape)"
   ]
  },
  {
   "cell_type": "markdown",
   "metadata": {},
   "source": [
    "<a id=section3></a>\n",
    "### 3. Decision Tree Model"
   ]
  },
  {
   "cell_type": "code",
   "execution_count": 9,
   "metadata": {},
   "outputs": [
    {
     "data": {
      "text/plain": [
       "DecisionTreeClassifier(class_weight=None, criterion='gini', max_depth=None,\n",
       "            max_features=None, max_leaf_nodes=None,\n",
       "            min_impurity_decrease=0.0, min_impurity_split=None,\n",
       "            min_samples_leaf=1, min_samples_split=2,\n",
       "            min_weight_fraction_leaf=0.0, presort=False, random_state=0,\n",
       "            splitter='best')"
      ]
     },
     "execution_count": 9,
     "metadata": {},
     "output_type": "execute_result"
    }
   ],
   "source": [
    "from sklearn import tree\n",
    "dtc_model = tree.DecisionTreeClassifier(random_state=0)\n",
    "\n",
    "#fitting the model\n",
    "dtc_model.fit(X_train, y_train)"
   ]
  },
  {
   "cell_type": "markdown",
   "metadata": {},
   "source": [
    "\n",
    "####  Generating Decision Tree Image"
   ]
  },
  {
   "cell_type": "code",
   "execution_count": 10,
   "metadata": {},
   "outputs": [],
   "source": [
    "#from graphviz import Source\n",
    "\n",
    "#graph = Source(tree.export_graphviz(dtc_model, out_file=None, filled=True, rounded=True, \n",
    "#                                   special_characters=True, feature_names=X.columns))\n",
    "#graph.format = 'png'\n",
    "#graph.render('dtree_insurance', view=True)"
   ]
  },
  {
   "cell_type": "markdown",
   "metadata": {},
   "source": [
    "<a id=section301></a>\n",
    "#### 3.1 Using the model for Prediction"
   ]
  },
  {
   "cell_type": "code",
   "execution_count": 11,
   "metadata": {},
   "outputs": [],
   "source": [
    "y_pred_train = dtc_model.predict(X_train)\n",
    "y_pred_test = dtc_model.predict(X_test)"
   ]
  },
  {
   "cell_type": "markdown",
   "metadata": {},
   "source": [
    "#### Model Evaluation using Accuracy Score"
   ]
  },
  {
   "cell_type": "code",
   "execution_count": 12,
   "metadata": {},
   "outputs": [
    {
     "name": "stdout",
     "output_type": "stream",
     "text": [
      "Accuracy Score for test data is: 0.3959023294976144\n"
     ]
    }
   ],
   "source": [
    "from sklearn.metrics import accuracy_score\n",
    "print('Accuracy Score for test data is:', accuracy_score(y_test, y_pred_test))"
   ]
  },
  {
   "cell_type": "markdown",
   "metadata": {},
   "source": [
    "<a id=section302></a>\n",
    "#### 3.2 Model Evaluation using Confusion Matrix"
   ]
  },
  {
   "cell_type": "code",
   "execution_count": 13,
   "metadata": {},
   "outputs": [
    {
     "name": "stdout",
     "output_type": "stream",
     "text": [
      "      PR-1  PR-2  PR-3  PR-4  PR-5  PR-6  PR-7  PR-8\n",
      "AR-1   389   373    47    31   209   331   251   318\n",
      "AR-2   306   470    51    35   239   367   211   279\n",
      "AR-3    36    49    29    17    70    64    31    20\n",
      "AR-4    32    23    16    53     7   121    53   110\n",
      "AR-5   185   274    75    14   623   257    90   108\n",
      "AR-6   354   346    61   110   254  1101   496   597\n",
      "AR-7   194   195    22    42   101   514   716   605\n",
      "AR-8   291   271    29   114   113   646   707  3672\n"
     ]
    }
   ],
   "source": [
    "from sklearn.metrics import confusion_matrix\n",
    "\n",
    "confusion_matrix = pd.DataFrame(confusion_matrix(y_test, y_pred_test))\n",
    "\n",
    "# Response being the target variable which is ordinal:\n",
    "# AR is Actual Response and PR is Predicted Response\n",
    "confusion_matrix.index = ['AR-1', 'AR-2', 'AR-3', 'AR-4','AR-5', 'AR-6', 'AR-7', 'AR-8']\n",
    "confusion_matrix.columns = ['PR-1', 'PR-2', 'PR-3', 'PR-4','PR-5', 'PR-6', 'PR-7', 'PR-8']\n",
    "print(confusion_matrix)"
   ]
  },
  {
   "cell_type": "markdown",
   "metadata": {},
   "source": [
    "<a id=section303></a>\n",
    "#### 3.3 Calculating Precision, Recall and  F1 score"
   ]
  },
  {
   "cell_type": "code",
   "execution_count": 14,
   "metadata": {},
   "outputs": [
    {
     "name": "stdout",
     "output_type": "stream",
     "text": [
      "Precision score is: 0.3959023294976144\n",
      "Recall score is: 0.3959023294976144\n",
      "F1 score is: 0.3959023294976144\n"
     ]
    }
   ],
   "source": [
    "from sklearn.metrics import precision_score, recall_score, f1_score, roc_auc_score\n",
    "\n",
    "precision = precision_score(y_test, y_pred_test, average='micro')\n",
    "print('Precision score is:', precision)\n",
    "\n",
    "recall = recall_score(y_test, y_pred_test, average='micro')\n",
    "print('Recall score is:', recall)\n",
    "\n",
    "f1score = f1_score(y_test, y_pred_test, average='micro')\n",
    "print('F1 score is:', f1score)"
   ]
  },
  {
   "cell_type": "markdown",
   "metadata": {},
   "source": [
    "<a id=section4></a>\n",
    "### 4 Random Forest Model"
   ]
  },
  {
   "cell_type": "code",
   "execution_count": 15,
   "metadata": {},
   "outputs": [
    {
     "name": "stderr",
     "output_type": "stream",
     "text": [
      "D:\\Personal\\Softwares\\lib\\site-packages\\sklearn\\cross_validation.py:41: DeprecationWarning: This module was deprecated in version 0.18 in favor of the model_selection module into which all the refactored classes and functions are moved. Also note that the interface of the new CV iterators are different from that of this module. This module will be removed in 0.20.\n",
      "  \"This module will be removed in 0.20.\", DeprecationWarning)\n"
     ]
    }
   ],
   "source": [
    "from sklearn.ensemble import RandomForestClassifier\n",
    "from sklearn.cross_validation import train_test_split\n",
    "\n",
    "X_train, X_test, y_train, y_test = train_test_split(X, y, test_size=0.30, random_state=1)\n",
    "\n",
    "model = RandomForestClassifier(random_state=0)\n",
    "\n",
    "model.fit(X_train, y_train)\n",
    "\n",
    "y_pred_train_r = model.predict(X_train)\n",
    "y_pred_test_r = model.predict(X_test)"
   ]
  },
  {
   "cell_type": "markdown",
   "metadata": {},
   "source": [
    "<a id=section401></a>\n",
    "#### 4.1 Model Evaluation"
   ]
  },
  {
   "cell_type": "code",
   "execution_count": 16,
   "metadata": {},
   "outputs": [
    {
     "name": "stdout",
     "output_type": "stream",
     "text": [
      "Accuracy score for test data is: 0.4716250350827954\n"
     ]
    }
   ],
   "source": [
    "from sklearn.metrics import accuracy_score\n",
    "print('Accuracy score for test data is:', accuracy_score(y_test, y_pred_test_r))"
   ]
  },
  {
   "cell_type": "code",
   "execution_count": 17,
   "metadata": {},
   "outputs": [
    {
     "name": "stdout",
     "output_type": "stream",
     "text": [
      "      PR-1  PR-2  PR-3  PR-4  PR-5  PR-6  PR-7  PR-8\n",
      "AR-1   434   372     9    17   182   398   165   372\n",
      "AR-2   338   448    10    11   233   396   160   362\n",
      "AR-3    46    35     8    14    71    91    14    37\n",
      "AR-4    35    27     2    47     4   124    26   150\n",
      "AR-5   155   233    16     5   717   304    78   118\n",
      "AR-6   284   290    10    57   197  1395   372   714\n",
      "AR-7   156    91     1    17    68   584   660   812\n",
      "AR-8   114    77     2    39    37   527   354  4693\n"
     ]
    }
   ],
   "source": [
    "from sklearn.metrics import confusion_matrix\n",
    "\n",
    "confusion_matrix = pd.DataFrame(confusion_matrix(y_test, y_pred_test_r))\n",
    "#confusion_matrix\n",
    "\n",
    "\n",
    "# Response being the target variable which is ordinal:\n",
    "# AR is Actual Response and PR is Predicted Response\n",
    "confusion_matrix.index = ['AR-1', 'AR-2', 'AR-3', 'AR-4','AR-5', 'AR-6', 'AR-7', 'AR-8']\n",
    "confusion_matrix.columns = ['PR-1', 'PR-2', 'PR-3', 'PR-4','PR-5', 'PR-6', 'PR-7', 'PR-8']\n",
    "print(confusion_matrix)"
   ]
  },
  {
   "cell_type": "markdown",
   "metadata": {},
   "source": [
    "<a id=section402></a>\n",
    "#### 4.2 Calculating Precision, Recall and  F1 Score"
   ]
  },
  {
   "cell_type": "code",
   "execution_count": 18,
   "metadata": {},
   "outputs": [
    {
     "name": "stdout",
     "output_type": "stream",
     "text": [
      "The Precision score for RandomForest model is: 0.4716250350827954\n",
      "The Recall score for RandomForest model is: 0.4716250350827954\n",
      "The F1 Score for RandomForest model is: 0.4716250350827954\n"
     ]
    }
   ],
   "source": [
    "precision_r = precision_score(y_test, y_pred_test_r, average='micro')\n",
    "print('The Precision score for RandomForest model is:', precision_r)\n",
    "\n",
    "recall_r = recall_score(y_test, y_pred_test_r, average='micro')\n",
    "print('The Recall score for RandomForest model is:', recall_r)\n",
    "\n",
    "F1score_r = f1_score(y_test, y_pred_test_r, average='micro')\n",
    "print('The F1 Score for RandomForest model is:', F1score_r)"
   ]
  },
  {
   "cell_type": "markdown",
   "metadata": {},
   "source": [
    "<a id=section403></a>\n",
    "### 4.3 Random Forest Model with RandomizedSearchCV"
   ]
  },
  {
   "cell_type": "code",
   "execution_count": 20,
   "metadata": {},
   "outputs": [],
   "source": [
    "from sklearn.model_selection import RandomizedSearchCV\n",
    "from scipy.stats import randint as sp_randit\n",
    "\n",
    "#Parameters for GridSearchCV\n",
    "param_dist = {'max_depth': range(2,5),\n",
    "              'min_samples_split': sp_randit(2,11),\n",
    "              'min_samples_leaf': sp_randit(1,11),\n",
    "              'bootstrap': [True, False],\n",
    "              'n_estimators': [100, 400, 700, 1000, 1500],\n",
    "              'criterion': ['gini', 'entropy'],\n",
    "              'max_features': ['sqrt', 'log2', None]\n",
    "    \n",
    "            }\n",
    "\n",
    "#run randomized search \n",
    "n_iter_search = 10\n",
    "random_search = RandomizedSearchCV(model, param_distributions = param_dist, n_iter=n_iter_search, n_jobs=-1)"
   ]
  },
  {
   "cell_type": "code",
   "execution_count": 21,
   "metadata": {},
   "outputs": [
    {
     "name": "stdout",
     "output_type": "stream",
     "text": [
      "Accuracy score for RandomizedSearchCV is: 0.4588268313219197\n"
     ]
    }
   ],
   "source": [
    "#Fitting the model\n",
    "random_search.fit(X_train, y_train)\n",
    "\n",
    "#Prediction\n",
    "y_pred_test_randomCV = random_search.predict(X_test)\n",
    "\n",
    "#Accuracy Score\n",
    "print('Accuracy score for RandomizedSearchCV is:', accuracy_score(y_test, y_pred_test_randomCV))"
   ]
  },
  {
   "cell_type": "code",
   "execution_count": 22,
   "metadata": {},
   "outputs": [
    {
     "name": "stdout",
     "output_type": "stream",
     "text": [
      "The Precision score for RandomizedSearchCV model is: 0.4588268313219197\n",
      "The Recall score for RandomizedSearchCV model is: 0.4588268313219197\n",
      "The F1 Score for RandomizedSearchCV model is: 0.4588268313219197\n"
     ]
    }
   ],
   "source": [
    "precision_randomCV = precision_score(y_test, y_pred_test_randomCV, average='micro')\n",
    "print('The Precision score for RandomizedSearchCV model is:', precision_randomCV)\n",
    "\n",
    "recall_randomCV = recall_score(y_test, y_pred_test_randomCV, average='micro')\n",
    "print('The Recall score for RandomizedSearchCV model is:', recall_randomCV)\n",
    "\n",
    "F1score_randomCV = f1_score(y_test, y_pred_test_randomCV, average='micro')\n",
    "print('The F1 Score for RandomizedSearchCV model is:', F1score_randomCV)"
   ]
  },
  {
   "cell_type": "markdown",
   "metadata": {},
   "source": [
    "<a id=section5></a>\n",
    "### 5 ROC_AUC score"
   ]
  },
  {
   "cell_type": "code",
   "execution_count": 23,
   "metadata": {},
   "outputs": [
    {
     "name": "stderr",
     "output_type": "stream",
     "text": [
      "D:\\Personal\\Softwares\\lib\\site-packages\\sklearn\\multiclass.py:76: UserWarning: Label not 8 is present in all training examples.\n",
      "  str(classes[c]))\n",
      "D:\\Personal\\Softwares\\lib\\site-packages\\sklearn\\metrics\\ranking.py:571: UndefinedMetricWarning: No positive samples in y_true, true positive value should be meaningless\n",
      "  UndefinedMetricWarning)\n"
     ]
    }
   ],
   "source": [
    "from sklearn.metrics import roc_curve, auc\n",
    "from sklearn.model_selection import train_test_split\n",
    "from sklearn.preprocessing import label_binarize\n",
    "from sklearn.multiclass import OneVsRestClassifier\n",
    "from sklearn import svm\n",
    "\n",
    "final_data_sample=final_data.sample(500)\n",
    "\n",
    "X = final_data_sample.loc[:, final_data_sample.columns != 'Response']\n",
    "y = final_data_sample.Response\n",
    "\n",
    "# Binarize the output\n",
    "y = label_binarize(y, classes=[1, 2,3,4,5,6,7,8,9])\n",
    "n_classes = y.shape[1]\n",
    "\n",
    "# Add noisy features to make the problem harder\n",
    "random_state = np.random.RandomState(0)\n",
    "n_samples, n_features = X.shape\n",
    "X = np.c_[X, random_state.randn(n_samples, 200 * n_features)]\n",
    "\n",
    "# shuffle and split training and test sets\n",
    "X_train, X_test, y_train, y_test = train_test_split(X, y, test_size=.30,\n",
    "                                                    random_state=1)\n",
    "\n",
    "# Learn to predict each class against the other\n",
    "classifier = OneVsRestClassifier(svm.SVC(kernel='linear', probability=True,\n",
    "                                 random_state=random_state))\n",
    "y_score = classifier.fit(X_train, y_train).decision_function(X_test)\n",
    "\n",
    "# Compute ROC curve and ROC area for each class\n",
    "fpr = dict()\n",
    "tpr = dict()\n",
    "roc_auc = dict()\n",
    "for i in range(n_classes):\n",
    "    fpr[i], tpr[i], _ = roc_curve(y_test[:, i], y_score[:, i])\n",
    "    roc_auc[i] = auc(fpr[i], tpr[i])\n",
    "\n",
    "# Compute micro-average ROC curve and ROC area\n",
    "fpr[\"micro\"], tpr[\"micro\"], _ = roc_curve(y_test.ravel(), y_score.ravel())\n",
    "roc_auc[\"micro\"] = auc(fpr[\"micro\"], tpr[\"micro\"])\n"
   ]
  },
  {
   "cell_type": "code",
   "execution_count": 24,
   "metadata": {},
   "outputs": [
    {
     "data": {
      "image/png": "[encoded data removed]",
      "text/plain": [
       "<Figure size 432x288 with 1 Axes>"
      ]
     },
     "metadata": {},
     "output_type": "display_data"
    }
   ],
   "source": [
    "plt.figure()\n",
    "lw = 2\n",
    "colors = ['aqua', 'darkorange', 'cornflowerblue','orange','red','blue','green','yellow','black']\n",
    "\n",
    "for i, color in zip(range(n_classes), colors):\n",
    "    plt.plot(fpr[i], tpr[i], color=color, lw=lw,\n",
    "             label='ROC curve of class {0} (area = {1:0.2f})'\n",
    "             ''.format(i, roc_auc[i]))\n",
    "    \n",
    "plt.plot([0, 1], [0, 1], 'k--', lw=lw)\n",
    "plt.xlim([0.0, 1.0])\n",
    "plt.ylim([0.0, 1.05])\n",
    "plt.xlabel('False Positive Rate')\n",
    "plt.ylabel('True Positive Rate')\n",
    "plt.title('Some extension of Receiver operating characteristic to multi-class')\n",
    "plt.legend(loc=\"lower right\")\n",
    "plt.show()"
   ]
  },
  {
   "cell_type": "code",
   "execution_count": 25,
   "metadata": {},
   "outputs": [
    {
     "data": {
      "image/png": "[encoded data removed]",
      "text/plain": [
       "<Figure size 432x288 with 1 Axes>"
      ]
     },
     "metadata": {},
     "output_type": "display_data"
    }
   ],
   "source": [
    "plt.figure()\n",
    "lw = 2\n",
    "plt.plot(fpr[2], tpr[2], color='darkorange',\n",
    "         lw=lw, label='ROC curve (area = %0.2f)' % roc_auc[2])\n",
    "plt.plot([0, 1], [0, 1], color='navy', lw=lw, linestyle='--')\n",
    "plt.xlim([0.0, 1.0])\n",
    "plt.ylim([0.0, 1.05])\n",
    "plt.xlabel('False Positive Rate')\n",
    "plt.ylabel('True Positive Rate')\n",
    "plt.title('Receiver operating characteristic example')\n",
    "plt.legend(loc=\"lower right\")\n",
    "plt.show()"
   ]
  },
  {
   "cell_type": "code",
   "execution_count": null,
   "metadata": {},
   "outputs": [],
   "source": []
  }
 ],
 "metadata": {
  "kernelspec": {
   "display_name": "Python 3",
   "language": "python",
   "name": "python3"
  },
  "language_info": {
   "codemirror_mode": {
    "name": "ipython",
    "version": 3
   },
   "file_extension": ".py",
   "mimetype": "text/x-python",
   "name": "python",
   "nbconvert_exporter": "python",
   "pygments_lexer": "ipython3",
   "version": "3.6.5"
  }
 },
 "nbformat": 4,
 "nbformat_minor": 2
}
